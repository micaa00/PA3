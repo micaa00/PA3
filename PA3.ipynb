{
 "cells": [
  {
   "cell_type": "markdown",
   "id": "4e3c9378",
   "metadata": {},
   "source": [
    "### Michael A. Staff\n",
    "### Programming Assignment 3\n",
    "### CS 150"
   ]
  },
  {
   "cell_type": "code",
   "execution_count": 33,
   "id": "cc80e30d",
   "metadata": {},
   "outputs": [
    {
     "name": "stdout",
     "output_type": "stream",
     "text": [
      "Please type the length of side A: 10\n",
      "Please type the length of side B: 10\n",
      "Please type the length of side C: 10\n",
      "The area of the triangle is approximately  43.30127018922193  square units.\n",
      "The perimiter of the triange is  30  linear units\n"
     ]
    }
   ],
   "source": [
    "import math\n",
    "\n",
    "def calcArea(a,b,c):\n",
    "    s = (a+b+c)/2\n",
    "    toSq = (s*(s-a)*(s-b)*(s-c))\n",
    "    return math.sqrt(toSq)\n",
    "\n",
    "def calcPerimiter(a, b, c):\n",
    "    return (a+b+c)\n",
    "    \n",
    "    \n",
    "def something(a):\n",
    "    return a*5\n",
    "    \n",
    "    \n",
    "\n",
    "A = int(input(\"Please type the length of side A: \"))\n",
    "B = int(input(\"Please type the length of side B: \"))\n",
    "C = int(input(\"Please type the length of side C: \"))\n",
    "\n",
    "\n",
    "#print(calcArea(A,B,C))\n",
    "\n",
    "\n",
    "print(\"The area of the triangle is approximately \", calcArea(A,B,C), \" square units.\")\n",
    "print(\"The perimiter of the triange is \",calcPerimiter(A,B,C), \" linear units\")"
   ]
  },
  {
   "cell_type": "code",
   "execution_count": 36,
   "id": "0be0e7df",
   "metadata": {},
   "outputs": [],
   "source": [
    "import random"
   ]
  },
  {
   "cell_type": "code",
   "execution_count": null,
   "id": "43408d45",
   "metadata": {},
   "outputs": [],
   "source": [
    "number=random.randint(1,1000)\n",
    "guess_number=None\n",
    "time=0\n",
    "while guess_number!=number:\n",
    "    guess_number=int(input(\"Enter any number between 1 to 1000:\"))\n",
    "    if guess_number==number:\n",
    "        print(\"Correct!!\")\n",
    "        break\n",
    "    elif guess_number<number:\n",
    "        print(\"Too low! Try again\")\n",
    "    elif guess_number>number:\n",
    "        print(\"Too high! Try again!!\")\n",
    "    "
   ]
  },
  {
   "cell_type": "code",
   "execution_count": 54,
   "id": "73b6bf2b",
   "metadata": {},
   "outputs": [
    {
     "name": "stdout",
     "output_type": "stream",
     "text": [
      "The mean temperature over the past  6  days 84.16666666666667  degrees Fahrenheit\n",
      "The mean temperature over the past  4  days 84.5  degrees Fahrenheit\n",
      "The mean temperature over the past  7  days 79.42857142857143  degrees Fahrenheit\n"
     ]
    }
   ],
   "source": [
    "def meanTemp(*args):\n",
    "    print (\"The mean temperature over the past \", len(args) , \" days\",sum(args)/len(args),\" degrees Fahrenheit\")\n",
    "\n",
    "meanTemp(92,86,78,90,84,75)\n",
    "meanTemp(86,90,87,75)\n",
    "meanTemp(67,87,68,90,87,72,85)"
   ]
  },
  {
   "cell_type": "code",
   "execution_count": null,
   "id": "6e6c1669",
   "metadata": {},
   "outputs": [],
   "source": []
  },
  {
   "cell_type": "code",
   "execution_count": null,
   "id": "ac13b935",
   "metadata": {},
   "outputs": [],
   "source": []
  }
 ],
 "metadata": {
  "kernelspec": {
   "display_name": "Python 3",
   "language": "python",
   "name": "python3"
  },
  "language_info": {
   "codemirror_mode": {
    "name": "ipython",
    "version": 3
   },
   "file_extension": ".py",
   "mimetype": "text/x-python",
   "name": "python",
   "nbconvert_exporter": "python",
   "pygments_lexer": "ipython3",
   "version": "3.8.8"
  }
 },
 "nbformat": 4,
 "nbformat_minor": 5
}
